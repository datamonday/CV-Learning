{
 "cells": [
  {
   "cell_type": "code",
   "execution_count": 1,
   "id": "410a56bd",
   "metadata": {},
   "outputs": [],
   "source": [
    "import numpy as np\n",
    "import pandas as pd\n",
    "import seaborn as sns\n",
    "import matplotlib.pyplot as plt"
   ]
  },
  {
   "cell_type": "code",
   "execution_count": 2,
   "id": "8c4a0c57",
   "metadata": {},
   "outputs": [
    {
     "name": "stdout",
     "output_type": "stream",
     "text": [
      "Index(['band1', 'band2', 'band3', 'band4', 'band5', 'band6', 'band7', 'band8',\n",
      "       'band9', 'band10',\n",
      "       ...\n",
      "       'band192', 'band193', 'band194', 'band195', 'band196', 'band197',\n",
      "       'band198', 'band199', 'band200', 'class'],\n",
      "      dtype='object', length=201)\n"
     ]
    },
    {
     "data": {
      "text/html": [
       "<div>\n",
       "<style scoped>\n",
       "    .dataframe tbody tr th:only-of-type {\n",
       "        vertical-align: middle;\n",
       "    }\n",
       "\n",
       "    .dataframe tbody tr th {\n",
       "        vertical-align: top;\n",
       "    }\n",
       "\n",
       "    .dataframe thead th {\n",
       "        text-align: right;\n",
       "    }\n",
       "</style>\n",
       "<table border=\"1\" class=\"dataframe\">\n",
       "  <thead>\n",
       "    <tr style=\"text-align: right;\">\n",
       "      <th></th>\n",
       "      <th>band1</th>\n",
       "      <th>band2</th>\n",
       "      <th>band3</th>\n",
       "      <th>band4</th>\n",
       "      <th>band5</th>\n",
       "      <th>band6</th>\n",
       "      <th>band7</th>\n",
       "      <th>band8</th>\n",
       "      <th>band9</th>\n",
       "      <th>band10</th>\n",
       "      <th>...</th>\n",
       "      <th>band192</th>\n",
       "      <th>band193</th>\n",
       "      <th>band194</th>\n",
       "      <th>band195</th>\n",
       "      <th>band196</th>\n",
       "      <th>band197</th>\n",
       "      <th>band198</th>\n",
       "      <th>band199</th>\n",
       "      <th>band200</th>\n",
       "      <th>class</th>\n",
       "    </tr>\n",
       "  </thead>\n",
       "  <tbody>\n",
       "    <tr>\n",
       "      <th>0</th>\n",
       "      <td>3172</td>\n",
       "      <td>4142</td>\n",
       "      <td>4506</td>\n",
       "      <td>4279</td>\n",
       "      <td>4782</td>\n",
       "      <td>5048</td>\n",
       "      <td>5213</td>\n",
       "      <td>5106</td>\n",
       "      <td>5053</td>\n",
       "      <td>4750</td>\n",
       "      <td>...</td>\n",
       "      <td>1094</td>\n",
       "      <td>1090</td>\n",
       "      <td>1112</td>\n",
       "      <td>1090</td>\n",
       "      <td>1062</td>\n",
       "      <td>1069</td>\n",
       "      <td>1057</td>\n",
       "      <td>1020</td>\n",
       "      <td>1020</td>\n",
       "      <td>3</td>\n",
       "    </tr>\n",
       "    <tr>\n",
       "      <th>1</th>\n",
       "      <td>2580</td>\n",
       "      <td>4266</td>\n",
       "      <td>4502</td>\n",
       "      <td>4426</td>\n",
       "      <td>4853</td>\n",
       "      <td>5249</td>\n",
       "      <td>5352</td>\n",
       "      <td>5353</td>\n",
       "      <td>5347</td>\n",
       "      <td>5065</td>\n",
       "      <td>...</td>\n",
       "      <td>1108</td>\n",
       "      <td>1104</td>\n",
       "      <td>1117</td>\n",
       "      <td>1091</td>\n",
       "      <td>1079</td>\n",
       "      <td>1085</td>\n",
       "      <td>1064</td>\n",
       "      <td>1029</td>\n",
       "      <td>1020</td>\n",
       "      <td>3</td>\n",
       "    </tr>\n",
       "    <tr>\n",
       "      <th>2</th>\n",
       "      <td>3687</td>\n",
       "      <td>4266</td>\n",
       "      <td>4421</td>\n",
       "      <td>4498</td>\n",
       "      <td>5019</td>\n",
       "      <td>5293</td>\n",
       "      <td>5438</td>\n",
       "      <td>5427</td>\n",
       "      <td>5383</td>\n",
       "      <td>5132</td>\n",
       "      <td>...</td>\n",
       "      <td>1111</td>\n",
       "      <td>1114</td>\n",
       "      <td>1114</td>\n",
       "      <td>1100</td>\n",
       "      <td>1065</td>\n",
       "      <td>1092</td>\n",
       "      <td>1061</td>\n",
       "      <td>1030</td>\n",
       "      <td>1016</td>\n",
       "      <td>3</td>\n",
       "    </tr>\n",
       "    <tr>\n",
       "      <th>3</th>\n",
       "      <td>2749</td>\n",
       "      <td>4258</td>\n",
       "      <td>4603</td>\n",
       "      <td>4493</td>\n",
       "      <td>4958</td>\n",
       "      <td>5234</td>\n",
       "      <td>5417</td>\n",
       "      <td>5355</td>\n",
       "      <td>5349</td>\n",
       "      <td>5096</td>\n",
       "      <td>...</td>\n",
       "      <td>1122</td>\n",
       "      <td>1108</td>\n",
       "      <td>1109</td>\n",
       "      <td>1109</td>\n",
       "      <td>1071</td>\n",
       "      <td>1088</td>\n",
       "      <td>1060</td>\n",
       "      <td>1030</td>\n",
       "      <td>1006</td>\n",
       "      <td>3</td>\n",
       "    </tr>\n",
       "    <tr>\n",
       "      <th>4</th>\n",
       "      <td>2746</td>\n",
       "      <td>4018</td>\n",
       "      <td>4675</td>\n",
       "      <td>4417</td>\n",
       "      <td>4886</td>\n",
       "      <td>5117</td>\n",
       "      <td>5215</td>\n",
       "      <td>5096</td>\n",
       "      <td>5098</td>\n",
       "      <td>4834</td>\n",
       "      <td>...</td>\n",
       "      <td>1110</td>\n",
       "      <td>1107</td>\n",
       "      <td>1112</td>\n",
       "      <td>1094</td>\n",
       "      <td>1072</td>\n",
       "      <td>1087</td>\n",
       "      <td>1052</td>\n",
       "      <td>1034</td>\n",
       "      <td>1019</td>\n",
       "      <td>3</td>\n",
       "    </tr>\n",
       "    <tr>\n",
       "      <th>21020</th>\n",
       "      <td>2561</td>\n",
       "      <td>3987</td>\n",
       "      <td>4011</td>\n",
       "      <td>4023</td>\n",
       "      <td>4201</td>\n",
       "      <td>4377</td>\n",
       "      <td>4418</td>\n",
       "      <td>4248</td>\n",
       "      <td>4180</td>\n",
       "      <td>3838</td>\n",
       "      <td>...</td>\n",
       "      <td>1013</td>\n",
       "      <td>1012</td>\n",
       "      <td>1018</td>\n",
       "      <td>1015</td>\n",
       "      <td>1011</td>\n",
       "      <td>1001</td>\n",
       "      <td>1000</td>\n",
       "      <td>1009</td>\n",
       "      <td>1008</td>\n",
       "      <td>0</td>\n",
       "    </tr>\n",
       "    <tr>\n",
       "      <th>21021</th>\n",
       "      <td>2726</td>\n",
       "      <td>4104</td>\n",
       "      <td>4024</td>\n",
       "      <td>3880</td>\n",
       "      <td>4210</td>\n",
       "      <td>4377</td>\n",
       "      <td>4413</td>\n",
       "      <td>4174</td>\n",
       "      <td>4229</td>\n",
       "      <td>3900</td>\n",
       "      <td>...</td>\n",
       "      <td>1012</td>\n",
       "      <td>1014</td>\n",
       "      <td>1012</td>\n",
       "      <td>1024</td>\n",
       "      <td>998</td>\n",
       "      <td>1010</td>\n",
       "      <td>1006</td>\n",
       "      <td>1000</td>\n",
       "      <td>1000</td>\n",
       "      <td>0</td>\n",
       "    </tr>\n",
       "    <tr>\n",
       "      <th>21022</th>\n",
       "      <td>3153</td>\n",
       "      <td>3864</td>\n",
       "      <td>4282</td>\n",
       "      <td>3889</td>\n",
       "      <td>4310</td>\n",
       "      <td>4372</td>\n",
       "      <td>4375</td>\n",
       "      <td>4208</td>\n",
       "      <td>4096</td>\n",
       "      <td>3878</td>\n",
       "      <td>...</td>\n",
       "      <td>1016</td>\n",
       "      <td>1015</td>\n",
       "      <td>1016</td>\n",
       "      <td>1021</td>\n",
       "      <td>1008</td>\n",
       "      <td>1019</td>\n",
       "      <td>1003</td>\n",
       "      <td>1008</td>\n",
       "      <td>1000</td>\n",
       "      <td>0</td>\n",
       "    </tr>\n",
       "    <tr>\n",
       "      <th>21023</th>\n",
       "      <td>3155</td>\n",
       "      <td>4104</td>\n",
       "      <td>4106</td>\n",
       "      <td>4027</td>\n",
       "      <td>4139</td>\n",
       "      <td>4318</td>\n",
       "      <td>4413</td>\n",
       "      <td>4174</td>\n",
       "      <td>4140</td>\n",
       "      <td>3933</td>\n",
       "      <td>...</td>\n",
       "      <td>1005</td>\n",
       "      <td>1011</td>\n",
       "      <td>1008</td>\n",
       "      <td>1012</td>\n",
       "      <td>1014</td>\n",
       "      <td>1007</td>\n",
       "      <td>1011</td>\n",
       "      <td>1005</td>\n",
       "      <td>1003</td>\n",
       "      <td>0</td>\n",
       "    </tr>\n",
       "    <tr>\n",
       "      <th>21024</th>\n",
       "      <td>3323</td>\n",
       "      <td>3860</td>\n",
       "      <td>4197</td>\n",
       "      <td>3952</td>\n",
       "      <td>4148</td>\n",
       "      <td>4279</td>\n",
       "      <td>4375</td>\n",
       "      <td>4225</td>\n",
       "      <td>3988</td>\n",
       "      <td>3866</td>\n",
       "      <td>...</td>\n",
       "      <td>1018</td>\n",
       "      <td>1014</td>\n",
       "      <td>1007</td>\n",
       "      <td>1015</td>\n",
       "      <td>1002</td>\n",
       "      <td>1010</td>\n",
       "      <td>1007</td>\n",
       "      <td>1004</td>\n",
       "      <td>1000</td>\n",
       "      <td>0</td>\n",
       "    </tr>\n",
       "  </tbody>\n",
       "</table>\n",
       "<p>10 rows × 201 columns</p>\n",
       "</div>"
      ],
      "text/plain": [
       "       band1  band2  band3  band4  band5  band6  band7  band8  band9  band10  \\\n",
       "0       3172   4142   4506   4279   4782   5048   5213   5106   5053    4750   \n",
       "1       2580   4266   4502   4426   4853   5249   5352   5353   5347    5065   \n",
       "2       3687   4266   4421   4498   5019   5293   5438   5427   5383    5132   \n",
       "3       2749   4258   4603   4493   4958   5234   5417   5355   5349    5096   \n",
       "4       2746   4018   4675   4417   4886   5117   5215   5096   5098    4834   \n",
       "21020   2561   3987   4011   4023   4201   4377   4418   4248   4180    3838   \n",
       "21021   2726   4104   4024   3880   4210   4377   4413   4174   4229    3900   \n",
       "21022   3153   3864   4282   3889   4310   4372   4375   4208   4096    3878   \n",
       "21023   3155   4104   4106   4027   4139   4318   4413   4174   4140    3933   \n",
       "21024   3323   3860   4197   3952   4148   4279   4375   4225   3988    3866   \n",
       "\n",
       "       ...  band192  band193  band194  band195  band196  band197  band198  \\\n",
       "0      ...     1094     1090     1112     1090     1062     1069     1057   \n",
       "1      ...     1108     1104     1117     1091     1079     1085     1064   \n",
       "2      ...     1111     1114     1114     1100     1065     1092     1061   \n",
       "3      ...     1122     1108     1109     1109     1071     1088     1060   \n",
       "4      ...     1110     1107     1112     1094     1072     1087     1052   \n",
       "21020  ...     1013     1012     1018     1015     1011     1001     1000   \n",
       "21021  ...     1012     1014     1012     1024      998     1010     1006   \n",
       "21022  ...     1016     1015     1016     1021     1008     1019     1003   \n",
       "21023  ...     1005     1011     1008     1012     1014     1007     1011   \n",
       "21024  ...     1018     1014     1007     1015     1002     1010     1007   \n",
       "\n",
       "       band199  band200  class  \n",
       "0         1020     1020      3  \n",
       "1         1029     1020      3  \n",
       "2         1030     1016      3  \n",
       "3         1030     1006      3  \n",
       "4         1034     1019      3  \n",
       "21020     1009     1008      0  \n",
       "21021     1000     1000      0  \n",
       "21022     1008     1000      0  \n",
       "21023     1005     1003      0  \n",
       "21024     1004     1000      0  \n",
       "\n",
       "[10 rows x 201 columns]"
      ]
     },
     "execution_count": 2,
     "metadata": {},
     "output_type": "execute_result"
    }
   ],
   "source": [
    "filename='indian_pines_all'\n",
    "df = pd.read_csv(f'{filename}.csv')\n",
    "print(df.columns)\n",
    "df.head().append(df.tail())"
   ]
  },
  {
   "cell_type": "code",
   "execution_count": 3,
   "id": "462b70dd",
   "metadata": {},
   "outputs": [],
   "source": [
    "names = ['Alfalfa', 'Corn-notill', 'Corn-mintill', 'Corn', 'Grass-pasture', 'Grass-trees',\n",
    "         'Grass-pasture-mowed', 'Hay-windrowed', 'Oats', 'Soybean-notill', 'Soybean-mintill',\n",
    "         'Soybean-clean', 'Wheat', 'Woods', 'Buildings Grass Trees Drives', 'Stone Steel Towers']"
   ]
  },
  {
   "cell_type": "markdown",
   "id": "4d791c0e",
   "metadata": {},
   "source": [
    "## 真实标签"
   ]
  },
  {
   "cell_type": "code",
   "execution_count": 147,
   "id": "c0e35afa",
   "metadata": {},
   "outputs": [
    {
     "data": {
      "image/png": "[encoded data removed]",
      "text/plain": [
       "<Figure size 720x576 with 2 Axes>"
      ]
     },
     "metadata": {
      "needs_background": "light"
     },
     "output_type": "display_data"
    }
   ],
   "source": [
    "# 真实数据\n",
    "y = pd.read_csv(\"df_indian_pines_gt.csv\")\n",
    "\n",
    "plt.figure(figsize=(10, 8))\n",
    "plt.imshow(y, cmap='nipy_spectral')\n",
    "plt.colorbar()\n",
    "plt.axis('off')\n",
    "plt.savefig('./results/IP_cmap.png')\n",
    "plt.show()"
   ]
  },
  {
   "cell_type": "code",
   "execution_count": 149,
   "id": "454eef1c",
   "metadata": {},
   "outputs": [
    {
     "data": {
      "text/plain": [
       "array([ 0,  1,  2,  3,  4,  5,  6,  7,  8,  9, 10, 11, 12, 13, 14, 15, 16],\n",
       "      dtype=int64)"
      ]
     },
     "execution_count": 149,
     "metadata": {},
     "output_type": "execute_result"
    }
   ],
   "source": [
    "np.unique(y)"
   ]
  },
  {
   "cell_type": "code",
   "execution_count": 150,
   "id": "e75cd062",
   "metadata": {},
   "outputs": [
    {
     "data": {
      "text/plain": [
       "17"
      ]
     },
     "execution_count": 150,
     "metadata": {},
     "output_type": "execute_result"
    }
   ],
   "source": [
    "len(np.unique(y))"
   ]
  },
  {
   "cell_type": "markdown",
   "id": "1cf39616",
   "metadata": {},
   "source": [
    "# 1. 过滤式特征选择"
   ]
  },
  {
   "cell_type": "markdown",
   "id": "8159f80e",
   "metadata": {},
   "source": [
    "## 1.1 相关系数法"
   ]
  },
  {
   "cell_type": "code",
   "execution_count": 4,
   "id": "44e24046",
   "metadata": {},
   "outputs": [],
   "source": [
    "# def corr_matrix(data, method='pearson'):\n",
    "#     \"\"\"\n",
    "#     计算数据各特征之间的相关系数\n",
    "#     ----\n",
    "#     data:DataFrame\n",
    "#     \"\"\"\n",
    "\n",
    "#     corr_matrix = data.corr(method=method) # 'pearson', 'spearman', 'kendall'\n",
    "\n",
    "#     f, ax = plt.subplots(figsize=(16,8), dpi=300)\n",
    "\n",
    "#     sns.heatmap(corr_matrix,\n",
    "#                 annot=True, \n",
    "#                 fmt='.2f', \n",
    "#                 linewidth=0.4,\n",
    "#                 annot_kws={'size': 10,}, \n",
    "#                 cmap='coolwarm', \n",
    "#                 ax=ax)\n",
    "    \n",
    "#     ax.set_title('$Pearson\\ Correlation\\ of\\ HSI\\ Data$', size=20)\n",
    "    \n",
    "# #     return corr_matrix\n",
    "# #     plt.xticks(fontsize=10)\n",
    "# #     plt.yticks(fontsize=10)\n",
    "# #     plt.show()\n",
    "\n",
    "# # # 200维度过多，绘图费时\n",
    "# # corr_matrix = corr_matrix(df, method='pearson')"
   ]
  },
  {
   "cell_type": "markdown",
   "id": "79e00aa0",
   "metadata": {},
   "source": [
    "- API:https://scikit-learn.org/stable/modules/generated/sklearn.feature_selection.SelectKBest.html#sklearn.feature_selection.SelectKBest\n",
    "\n",
    "`sklearn.feature_selection.SelectKBest(score_func=<function f_classif>, *, k=10)`\n",
    "\n",
    "- 功能：SelecKBest 选择K个最好的特征，返回选择特征后的数据\n",
    "- 参数score_func：计算评估特征是否好的函数，该函数输入特征矩阵和目标向量；\n",
    "- 参数k：选择的特征个数；\n",
    "- 返回值：数组（评分，P值），第i项为第i个特征的评分和P值。在此定义为计算相关系数。\n",
    "\n",
    "---\n",
    "- API:https://docs.scipy.org/doc/scipy/reference/generated/scipy.stats.pearsonr.html\n",
    "\n",
    "`scipy.stats.pearsonr(x, y)`\n",
    "- 输入：特征矩阵和目标向量\n",
    "- 返回：(r, p-value)，皮尔逊相关系数和p-value"
   ]
  },
  {
   "cell_type": "code",
   "execution_count": 115,
   "id": "75b2c7fa",
   "metadata": {},
   "outputs": [],
   "source": [
    "from sklearn.feature_selection import SelectKBest\n",
    "from scipy.stats import pearsonr, spearmanr, kendalltau\n",
    "\n",
    "def calculate_corr(df, method_func=pearsonr): # pearsonr\n",
    "    \"\"\"\n",
    "    计算相关系数（皮尔逊、斯皮尔曼、肯达尔）\n",
    "    ----\n",
    "    df:DataFrame\n",
    "    method_dunc:scipy.stats functions\n",
    "    \"\"\"\n",
    "    # 计算列数\n",
    "    n_cols = int(len(df.columns))\n",
    "    # 相关系数矩阵，shape为 n_cols * n_cols，并初始化为0\n",
    "    corr_matrix = [[0] * n_cols] * n_cols\n",
    "    pvalue_matrix = [[0] * n_cols] * n_cols\n",
    "    \n",
    "    for i, out_col_idx in enumerate(np.arange(0, n_cols, 1)):\n",
    "        for inn_col_idx in np.arange(i, n_cols, 1):\n",
    "            # 计算相关系数和pvalue\n",
    "            r, p = method_func(df.iloc[:, out_col_idx].values, df.iloc[:, inn_col_idx].values)\n",
    "            corr_matrix[out_col_idx][inn_col_idx] = r\n",
    "            pvalue_matrix[out_col_idx][inn_col_idx] = p\n",
    "        \n",
    "    return corr_matrix, pvalue_matrix"
   ]
  },
  {
   "cell_type": "code",
   "execution_count": 116,
   "id": "db68cac8",
   "metadata": {},
   "outputs": [
    {
     "data": {
      "text/plain": [
       "[[0, 0, 0, 0, 0, 0, 0, 0, 0, 0],\n",
       " [0, 0, 0, 0, 0, 0, 0, 0, 0, 0],\n",
       " [0, 0, 0, 0, 0, 0, 0, 0, 0, 0],\n",
       " [0, 0, 0, 0, 0, 0, 0, 0, 0, 0],\n",
       " [0, 0, 0, 0, 0, 0, 0, 0, 0, 0],\n",
       " [0, 0, 0, 0, 0, 0, 0, 0, 0, 0],\n",
       " [0, 0, 0, 0, 0, 0, 0, 0, 0, 0],\n",
       " [0, 0, 0, 0, 0, 0, 0, 0, 0, 0],\n",
       " [0, 0, 0, 0, 0, 0, 0, 0, 0, 0],\n",
       " [0, 0, 0, 0, 0, 0, 0, 0, 0, 0]]"
      ]
     },
     "execution_count": 116,
     "metadata": {},
     "output_type": "execute_result"
    }
   ],
   "source": [
    "n_cols= 10\n",
    "[[0] * n_cols] * n_cols"
   ]
  },
  {
   "cell_type": "code",
   "execution_count": 117,
   "id": "4d990d85",
   "metadata": {},
   "outputs": [],
   "source": [
    "corr_matrix, pvalue_matrix = calculate_corr(df)"
   ]
  },
  {
   "cell_type": "code",
   "execution_count": 118,
   "id": "dbbd6310",
   "metadata": {},
   "outputs": [
    {
     "data": {
      "text/plain": [
       "array([[1., 1., 1., ..., 1., 1., 1.],\n",
       "       [1., 1., 1., ..., 1., 1., 1.],\n",
       "       [1., 1., 1., ..., 1., 1., 1.],\n",
       "       ...,\n",
       "       [1., 1., 1., ..., 1., 1., 1.],\n",
       "       [1., 1., 1., ..., 1., 1., 1.],\n",
       "       [1., 1., 1., ..., 1., 1., 1.]])"
      ]
     },
     "execution_count": 118,
     "metadata": {},
     "output_type": "execute_result"
    }
   ],
   "source": [
    "np.array(corr_matrix)"
   ]
  },
  {
   "cell_type": "code",
   "execution_count": 119,
   "id": "876e8e25",
   "metadata": {},
   "outputs": [
    {
     "data": {
      "text/plain": [
       "array([1., 1., 1., 1., 1., 1.])"
      ]
     },
     "execution_count": 119,
     "metadata": {},
     "output_type": "execute_result"
    }
   ],
   "source": [
    "np.unique(np.array(corr_matrix))"
   ]
  },
  {
   "cell_type": "markdown",
   "id": "9f8c9ac3",
   "metadata": {},
   "source": [
    "## 1.2 方差选择法\n",
    "\n",
    "- API：https://scikit-learn.org/stable/modules/generated/sklearn.feature_selection.VarianceThreshold.html#sklearn.feature_selection.VarianceThreshold\n",
    "\n",
    "`sklearn.feature_selection.VarianceThreshold(threshold=0.0)`\n",
    "\n",
    "- 功能：删除所有低方差特征\n",
    "- threshold:float, default=0,方差的阈值\n",
    "- 返回值：特征选择后的数据"
   ]
  },
  {
   "cell_type": "code",
   "execution_count": 140,
   "id": "7593e0ea",
   "metadata": {},
   "outputs": [
    {
     "data": {
      "text/plain": [
       "array([[5213, 5106, 5053, ..., 3784, 3642, 3271],\n",
       "       [5352, 5353, 5347, ..., 4067, 3931, 2736],\n",
       "       [5438, 5427, 5383, ..., 4145, 4011, 2804],\n",
       "       ...,\n",
       "       [4375, 4208, 4096, ..., 4766, 4599, 4010],\n",
       "       [4413, 4174, 4140, ..., 4532, 4364, 3806],\n",
       "       [4375, 4225, 3988, ..., 4647, 4486, 3899]], dtype=int64)"
      ]
     },
     "execution_count": 140,
     "metadata": {},
     "output_type": "execute_result"
    }
   ],
   "source": [
    "from sklearn.feature_selection import VarianceThreshold\n",
    "\n",
    "fs_vt = VarianceThreshold(threshold = 200000).fit_transform(df.iloc[:, :-1])\n",
    "fs_vt"
   ]
  },
  {
   "cell_type": "code",
   "execution_count": 141,
   "id": "5a7e0a46",
   "metadata": {},
   "outputs": [
    {
     "data": {
      "text/plain": [
       "(21025, 65)"
      ]
     },
     "execution_count": 141,
     "metadata": {},
     "output_type": "execute_result"
    }
   ],
   "source": [
    "fs_vt.shape"
   ]
  },
  {
   "cell_type": "markdown",
   "id": "52cb5dfa",
   "metadata": {},
   "source": [
    "## 1.3 卡方检验\n",
    "- API：https://scikit-learn.org/stable/modules/generated/sklearn.feature_selection.chi2.html#sklearn.feature_selection.chi2\n",
    "\n",
    "`sklearn.feature_selection.chi2(X, y)`\n",
    "- 功能：计算每个非负要素与类之间的卡方统计量。选择最好的K个特征\n",
    "- X\n",
    "- y\n",
    "- 返回：每个特征的Chi2统计信息以及P-Value"
   ]
  },
  {
   "cell_type": "code",
   "execution_count": 142,
   "id": "bd2a2a1d",
   "metadata": {},
   "outputs": [],
   "source": [
    "# 全局变量，选择最佳的特征数量\n",
    "K_BEST = 50"
   ]
  },
  {
   "cell_type": "code",
   "execution_count": 145,
   "id": "78d793d7",
   "metadata": {},
   "outputs": [
    {
     "data": {
      "text/plain": [
       "array([[4750, 4816, 4769, ..., 2204, 2100, 2146],\n",
       "       [5065, 5141, 5100, ..., 2303, 2195, 2228],\n",
       "       [5132, 5227, 5172, ..., 2352, 2215, 2265],\n",
       "       ...,\n",
       "       [3878, 3890, 3683, ..., 1521, 1494, 1544],\n",
       "       [3933, 3799, 3627, ..., 1490, 1466, 1510],\n",
       "       [3866, 3811, 3639, ..., 1505, 1484, 1517]], dtype=int64)"
      ]
     },
     "execution_count": 145,
     "metadata": {},
     "output_type": "execute_result"
    }
   ],
   "source": [
    "from sklearn.feature_selection import SelectKBest\n",
    "from sklearn.feature_selection import chi2\n",
    "\n",
    "fs_chi2 = SelectKBest(chi2, k= K_BEST).fit_transform(df.iloc[:, :-1], df.iloc[:, -1])\n",
    "fs_chi2"
   ]
  },
  {
   "cell_type": "code",
   "execution_count": 146,
   "id": "12b749a9",
   "metadata": {},
   "outputs": [
    {
     "data": {
      "text/plain": [
       "(21025, 50)"
      ]
     },
     "execution_count": 146,
     "metadata": {},
     "output_type": "execute_result"
    }
   ],
   "source": [
    "fs_chi2.shape"
   ]
  },
  {
   "cell_type": "markdown",
   "id": "6c205124",
   "metadata": {},
   "source": [
    "# 2. 包裹式特征选择（200维太高，组合爆炸）\n",
    "# idea:使用PCA先降维"
   ]
  },
  {
   "cell_type": "code",
   "execution_count": 166,
   "id": "33e72e57",
   "metadata": {},
   "outputs": [
    {
     "data": {
      "image/png": "[encoded data removed]",
      "text/plain": [
       "<Figure size 3600x1800 with 1 Axes>"
      ]
     },
     "metadata": {
      "needs_background": "light"
     },
     "output_type": "display_data"
    }
   ],
   "source": [
    "from sklearn.decomposition import PCA\n",
    "\n",
    "pca_components = 20\n",
    "\n",
    "pca = PCA(n_components = pca_components)\n",
    "data = df.iloc[:, :-1].values\n",
    "df_pca = pca.fit_transform(data)\n",
    "\n",
    "ev = pca.explained_variance_ratio_\n",
    "\n",
    "plt.figure(figsize=(12, 6), dpi=300)\n",
    "plt.plot(np.cumsum(ev))\n",
    "plt.xlabel('Number of components')\n",
    "plt.ylabel('Cumulative explained variance')\n",
    "\n",
    "plt.show()"
   ]
  },
  {
   "cell_type": "code",
   "execution_count": 168,
   "id": "6e958184",
   "metadata": {},
   "outputs": [
    {
     "data": {
      "text/plain": [
       "(21025, 20)"
      ]
     },
     "execution_count": 168,
     "metadata": {},
     "output_type": "execute_result"
    }
   ],
   "source": [
    "df_pca.shape"
   ]
  },
  {
   "cell_type": "markdown",
   "id": "a899ccc0",
   "metadata": {},
   "source": [
    "## 2.1 递归特征消除（RFE and RFECV）\n",
    "- API：https://scikit-learn.org/stable/modules/generated/sklearn.feature_selection.RFE.html#sklearn.feature_selection.RFE\n",
    "\n",
    "`sklearn.feature_selection.RFE(estimator, *, n_features_to_select=None, step=1, verbose=0, importance_getter='auto')`\n",
    "\n",
    "- 功能：递归消除特征\n",
    "- estimator：使用的基模型\n",
    "- n_features_to_select：选择的特征个数\n",
    "- step：如果大于或等于1，则step对应于在每次迭代中删除的（整数）个特征。如果在（0.0，1.0）之内，则step对应于每次迭代要删除的特征的百分比（四舍五入）。\n",
    "- Important_getterstr：str or callable, default='auto'，如果为auto，则通过估算器的coef_或feature_importances_属性使用特征重要性。"
   ]
  },
  {
   "cell_type": "markdown",
   "id": "892e4406",
   "metadata": {},
   "source": [
    "## ERROR!!!\n",
    "\n",
    "\n",
    "ValueError: when `importance_getter=='auto'`, the underlying estimator SVC should have `coef_` or `feature_importances_` attribute. Either pass a fitted estimator to feature selector or call fit before calling transform.\n",
    "\n",
    "<font color=red size=4>**使用递归特征消除方法时，评估器必须具有`coef_` or `feature_importances_`属性，否则无法使用。可以使用基于树的模型！！！**</font>\n"
   ]
  },
  {
   "cell_type": "markdown",
   "id": "73e484f4",
   "metadata": {},
   "source": [
    "### 1. SVC\n",
    "- API:https://scikit-learn.org/stable/modules/generated/sklearn.svm.SVC.html\n",
    "\n",
    "`sklearn.svm.SVC(*, C=1.0, kernel='rbf', degree=3, gamma='scale', coef0=0.0, shrinking=True, probability=False, tol=0.001, cache_size=200, class_weight=None, verbose=False, max_iter=- 1, decision_function_shape='ovr', break_ties=False, random_state=None)`\n",
    "\n",
    "- C:正则化参数。正则化的强度与C成反比。必须严格为正。惩罚是平方的l2惩罚。"
   ]
  },
  {
   "cell_type": "code",
   "execution_count": 169,
   "id": "dbea8d3a",
   "metadata": {},
   "outputs": [],
   "source": [
    "K_BEST2 = 15"
   ]
  },
  {
   "cell_type": "code",
   "execution_count": 219,
   "id": "fac695e4",
   "metadata": {},
   "outputs": [],
   "source": [
    "# from sklearn.feature_selection import RFE\n",
    "# # 导入SVM Classifier\n",
    "# from sklearn.svm import SVC\n",
    "\n",
    "# # est = SVC(C=100, kernel='rbf', cache_size=10*1024).fit(df.iloc[:, :-1], df.iloc[:, -1])\n",
    "# est = SVC(C=100, kernel='rbf', cache_size=10*1024).fit(df_pca, df.iloc[:, -1])\n",
    "\n",
    "# fs_RFE_SVM = RFE(estimator=est,\n",
    "#                  n_features_to_select= K_BEST2,\n",
    "#                  step=1)\n",
    "# fs_RFE_SVM"
   ]
  },
  {
   "cell_type": "markdown",
   "id": "86f57b5d",
   "metadata": {},
   "source": [
    "### AttributeError: 'RFE' object has no attribute 'support_'"
   ]
  },
  {
   "cell_type": "code",
   "execution_count": 220,
   "id": "e01fe936",
   "metadata": {},
   "outputs": [],
   "source": [
    "# fs_RFE_SVM.support_"
   ]
  },
  {
   "cell_type": "code",
   "execution_count": 221,
   "id": "17410642",
   "metadata": {},
   "outputs": [],
   "source": [
    "# fs_RFE_SVM.ranking_"
   ]
  },
  {
   "cell_type": "markdown",
   "id": "607c0563",
   "metadata": {},
   "source": [
    "### 2. LR\n",
    "- API：https://scikit-learn.org/0.15/modules/generated/sklearn.linear_model.LogisticRegression.html\n",
    "\n",
    "`sklearn.linear_model.LogisticRegression(penalty='l2', dual=False, tol=0.0001, C=1.0, fit_intercept=True, intercept_scaling=1, class_weight=None, random_state=None)`\n",
    "\n",
    "- penalty : string, ‘l1’ or ‘l2’ 用于指定惩罚中使用的范数。\n",
    "- dual : boolean 对偶或原始形式。对偶公式化仅适用于12惩罚。当 `n_samples> n_features` 时，首选dual = False。\n",
    "- C : float, optional (default=1.0) ，正则强度的倒数；必须为正浮点数。像在支持向量机中一样，较小的值指定更强的正则化。"
   ]
  },
  {
   "cell_type": "code",
   "execution_count": 187,
   "id": "6aff2566",
   "metadata": {},
   "outputs": [
    {
     "name": "stderr",
     "output_type": "stream",
     "text": [
      "D:\\anaconda\\envs\\tensorflow\\lib\\site-packages\\sklearn\\linear_model\\_logistic.py:763: ConvergenceWarning: lbfgs failed to converge (status=1):\n",
      "STOP: TOTAL NO. of ITERATIONS REACHED LIMIT.\n",
      "\n",
      "Increase the number of iterations (max_iter) or scale the data as shown in:\n",
      "    https://scikit-learn.org/stable/modules/preprocessing.html\n",
      "Please also refer to the documentation for alternative solver options:\n",
      "    https://scikit-learn.org/stable/modules/linear_model.html#logistic-regression\n",
      "  n_iter_i = _check_optimize_result(\n",
      "D:\\anaconda\\envs\\tensorflow\\lib\\site-packages\\sklearn\\linear_model\\_logistic.py:763: ConvergenceWarning: lbfgs failed to converge (status=1):\n",
      "STOP: TOTAL NO. of ITERATIONS REACHED LIMIT.\n",
      "\n",
      "Increase the number of iterations (max_iter) or scale the data as shown in:\n",
      "    https://scikit-learn.org/stable/modules/preprocessing.html\n",
      "Please also refer to the documentation for alternative solver options:\n",
      "    https://scikit-learn.org/stable/modules/linear_model.html#logistic-regression\n",
      "  n_iter_i = _check_optimize_result(\n",
      "D:\\anaconda\\envs\\tensorflow\\lib\\site-packages\\sklearn\\linear_model\\_logistic.py:763: ConvergenceWarning: lbfgs failed to converge (status=1):\n",
      "STOP: TOTAL NO. of ITERATIONS REACHED LIMIT.\n",
      "\n",
      "Increase the number of iterations (max_iter) or scale the data as shown in:\n",
      "    https://scikit-learn.org/stable/modules/preprocessing.html\n",
      "Please also refer to the documentation for alternative solver options:\n",
      "    https://scikit-learn.org/stable/modules/linear_model.html#logistic-regression\n",
      "  n_iter_i = _check_optimize_result(\n",
      "D:\\anaconda\\envs\\tensorflow\\lib\\site-packages\\sklearn\\linear_model\\_logistic.py:763: ConvergenceWarning: lbfgs failed to converge (status=1):\n",
      "STOP: TOTAL NO. of ITERATIONS REACHED LIMIT.\n",
      "\n",
      "Increase the number of iterations (max_iter) or scale the data as shown in:\n",
      "    https://scikit-learn.org/stable/modules/preprocessing.html\n",
      "Please also refer to the documentation for alternative solver options:\n",
      "    https://scikit-learn.org/stable/modules/linear_model.html#logistic-regression\n",
      "  n_iter_i = _check_optimize_result(\n",
      "D:\\anaconda\\envs\\tensorflow\\lib\\site-packages\\sklearn\\linear_model\\_logistic.py:763: ConvergenceWarning: lbfgs failed to converge (status=1):\n",
      "STOP: TOTAL NO. of ITERATIONS REACHED LIMIT.\n",
      "\n",
      "Increase the number of iterations (max_iter) or scale the data as shown in:\n",
      "    https://scikit-learn.org/stable/modules/preprocessing.html\n",
      "Please also refer to the documentation for alternative solver options:\n",
      "    https://scikit-learn.org/stable/modules/linear_model.html#logistic-regression\n",
      "  n_iter_i = _check_optimize_result(\n",
      "D:\\anaconda\\envs\\tensorflow\\lib\\site-packages\\sklearn\\linear_model\\_logistic.py:763: ConvergenceWarning: lbfgs failed to converge (status=1):\n",
      "STOP: TOTAL NO. of ITERATIONS REACHED LIMIT.\n",
      "\n",
      "Increase the number of iterations (max_iter) or scale the data as shown in:\n",
      "    https://scikit-learn.org/stable/modules/preprocessing.html\n",
      "Please also refer to the documentation for alternative solver options:\n",
      "    https://scikit-learn.org/stable/modules/linear_model.html#logistic-regression\n",
      "  n_iter_i = _check_optimize_result(\n"
     ]
    },
    {
     "data": {
      "text/plain": [
       "array([[  72.69704814,   71.20476152, -435.68704638, ...,  409.26634395,\n",
       "        -223.36354022,    8.36060373],\n",
       "       [ 350.13462673, -528.46458237,  148.08789196, ..., -136.67284647,\n",
       "         165.89823367,   39.10190082],\n",
       "       [ 490.53993477, -760.21428572,  259.93367717, ..., -217.46786134,\n",
       "         105.98797523,  -22.63094933],\n",
       "       ...,\n",
       "       [ 398.17024351,   94.13269945, -359.55011523, ...,  224.12898844,\n",
       "          60.5009701 ,  203.42156141],\n",
       "       [ 676.8089852 , -196.89442065, -766.92603586, ..., -132.41535817,\n",
       "         -25.04635781,  144.86178326],\n",
       "       [ 465.45080926,  102.21374699, -552.87389909, ..., -235.47476362,\n",
       "         -56.62807256,  135.01349685]])"
      ]
     },
     "execution_count": 187,
     "metadata": {},
     "output_type": "execute_result"
    }
   ],
   "source": [
    "from sklearn.feature_selection import RFE\n",
    "from sklearn.linear_model import LogisticRegression\n",
    "\n",
    "fs_RFE_LR = RFE(estimator=LogisticRegression(), \n",
    "                n_features_to_select=15\n",
    "               ).fit_transform(df_pca, \n",
    "                               df.iloc[:, -1])\n",
    "fs_RFE_LR"
   ]
  },
  {
   "cell_type": "code",
   "execution_count": 193,
   "id": "b8a07434",
   "metadata": {},
   "outputs": [
    {
     "data": {
      "text/plain": [
       "array([[  72.69704814,   71.20476152, -435.68704638, ...,  409.26634395,\n",
       "        -223.36354022,    8.36060373],\n",
       "       [ 350.13462673, -528.46458237,  148.08789196, ..., -136.67284647,\n",
       "         165.89823367,   39.10190082],\n",
       "       [ 490.53993477, -760.21428572,  259.93367717, ..., -217.46786134,\n",
       "         105.98797523,  -22.63094933],\n",
       "       ...,\n",
       "       [ 398.17024351,   94.13269945, -359.55011523, ...,  224.12898844,\n",
       "          60.5009701 ,  203.42156141],\n",
       "       [ 676.8089852 , -196.89442065, -766.92603586, ..., -132.41535817,\n",
       "         -25.04635781,  144.86178326],\n",
       "       [ 465.45080926,  102.21374699, -552.87389909, ..., -235.47476362,\n",
       "         -56.62807256,  135.01349685]])"
      ]
     },
     "execution_count": 193,
     "metadata": {},
     "output_type": "execute_result"
    }
   ],
   "source": [
    "fs_RFE_LR"
   ]
  },
  {
   "cell_type": "code",
   "execution_count": 194,
   "id": "ba06230f",
   "metadata": {},
   "outputs": [
    {
     "data": {
      "text/plain": [
       "(21025, 15)"
      ]
     },
     "execution_count": 194,
     "metadata": {},
     "output_type": "execute_result"
    }
   ],
   "source": [
    "fs_RFE_LR.shape"
   ]
  },
  {
   "cell_type": "markdown",
   "id": "5878a224",
   "metadata": {},
   "source": [
    "### 3. Random Forest\n",
    "- API:https://scikit-learn.org/stable/modules/generated/sklearn.ensemble.RandomForestClassifier.html?highlight=random%20forest#sklearn.ensemble.RandomForestClassifier\n",
    "\n",
    "`sklearn.ensemble.RandomForestClassifier(n_estimators=100, *, criterion='gini', max_depth=None, min_samples_split=2, min_samples_leaf=1, min_weight_fraction_leaf=0.0, max_features='auto', max_leaf_nodes=None, min_impurity_decrease=0.0, min_impurity_split=None, bootstrap=True, oob_score=False, n_jobs=None, random_state=None, verbose=0, warm_start=False, class_weight=None, ccp_alpha=0.0, max_samples=None)`\n",
    "\n",
    "- n_estimators：int，默认为100，森林中树的数量。\n",
    "- criterion: 衡量分割质量的函数。{“gini”, “entropy”}, default=”gini”\n",
    "- max_depth: int, 树的最大深度。如果为None，则将节点展开，直到所有叶子都是纯净的，或者直到所有叶子都包含少于min_samples_split个样本。\n",
    "- min_samples_split：int或float，默认= 2。分割内部节点所需的最小样本数：\n",
    "- min_samples_leaf：int或float，默认= 1。在叶节点处需要的最小样本数。"
   ]
  },
  {
   "cell_type": "code",
   "execution_count": 182,
   "id": "1ccd0aee",
   "metadata": {},
   "outputs": [],
   "source": [
    "from sklearn.ensemble import RandomForestClassifier\n",
    "\n",
    "est = RandomForestClassifier(n_estimators=100, \n",
    "                             criterion='gini', \n",
    "                             max_depth=None,\n",
    "                             min_samples_split=2,\n",
    "                             min_samples_leaf=1,\n",
    "                             )\n",
    "\n",
    "fs_RFE_RF = RFE(estimator=est, \n",
    "                n_features_to_select= K_BEST2\n",
    "               ).fit_transform(df_pca, \n",
    "                               df.iloc[:, -1])"
   ]
  },
  {
   "cell_type": "code",
   "execution_count": 184,
   "id": "67979b3e",
   "metadata": {},
   "outputs": [
    {
     "data": {
      "text/plain": [
       "array([[ 5014.90598496,  1456.86326035,    72.69704814, ...,\n",
       "         -148.73239874,   -51.74246978,   409.26634395],\n",
       "       [ 5601.38374305, -2023.45008662,   350.13462673, ...,\n",
       "           67.40997188,  -126.70576554,  -136.67284647],\n",
       "       [ 5796.13544234, -3090.39485163,   490.53993477, ...,\n",
       "          -46.99178978,  -141.25596292,  -217.46786134],\n",
       "       ...,\n",
       "       [-7369.83419812, -1132.38176565,   398.17024351, ...,\n",
       "          404.12543558,   -17.21378495,   224.12898844],\n",
       "       [-6497.08723914,   798.24003307,   676.8089852 , ...,\n",
       "          293.28276878,   377.32694168,  -132.41535817],\n",
       "       [-6570.46116092,   346.74962211,   465.45080926, ...,\n",
       "          232.15988674,   374.64057429,  -235.47476362]])"
      ]
     },
     "execution_count": 184,
     "metadata": {},
     "output_type": "execute_result"
    }
   ],
   "source": [
    "fs_RFE_RF"
   ]
  },
  {
   "cell_type": "code",
   "execution_count": 185,
   "id": "5e3daace",
   "metadata": {},
   "outputs": [
    {
     "data": {
      "text/plain": [
       "(21025, 15)"
      ]
     },
     "execution_count": 185,
     "metadata": {},
     "output_type": "execute_result"
    }
   ],
   "source": [
    "fs_RFE_RF.shape"
   ]
  },
  {
   "cell_type": "markdown",
   "id": "7651615a",
   "metadata": {},
   "source": [
    "# 3. 嵌入式特征选择方法\n",
    "\n",
    "## 3.1  基于惩罚项的特征选择法（可以直接用，快！）\n",
    "\n",
    "- API：https://scikit-learn.org/stable/modules/generated/sklearn.feature_selection.SelectFromModel.html#sklearn.feature_selection.SelectFromModel\n",
    "\n",
    "`sklearn.feature_selection.SelectFromModel(estimator, *, threshold=None, prefit=False, norm_order=1, max_features=None, importance_getter='auto')`\n",
    "\n",
    "- 说明：带L1惩罚项的逻辑回归作为基模型的特征选择，用于根据重要性权重选择特征。\n",
    "- estimator：基学习器。\n",
    "- threshold：用于特征选择的阈值。"
   ]
  },
  {
   "cell_type": "code",
   "execution_count": 162,
   "id": "3c8f8b55",
   "metadata": {},
   "outputs": [
    {
     "name": "stderr",
     "output_type": "stream",
     "text": [
      "D:\\anaconda\\envs\\tensorflow\\lib\\site-packages\\sklearn\\linear_model\\_logistic.py:763: ConvergenceWarning: lbfgs failed to converge (status=1):\n",
      "STOP: TOTAL NO. of ITERATIONS REACHED LIMIT.\n",
      "\n",
      "Increase the number of iterations (max_iter) or scale the data as shown in:\n",
      "    https://scikit-learn.org/stable/modules/preprocessing.html\n",
      "Please also refer to the documentation for alternative solver options:\n",
      "    https://scikit-learn.org/stable/modules/linear_model.html#logistic-regression\n",
      "  n_iter_i = _check_optimize_result(\n"
     ]
    },
    {
     "data": {
      "text/plain": [
       "array([[3172, 4142, 4506, ..., 2045, 2003, 1999],\n",
       "       [2580, 4266, 4502, ..., 2127, 2090, 2072],\n",
       "       [3687, 4266, 4421, ..., 2172, 2127, 2114],\n",
       "       ...,\n",
       "       [3153, 3864, 4282, ..., 1546, 1532, 1523],\n",
       "       [3155, 4104, 4106, ..., 1513, 1493, 1483],\n",
       "       [3323, 3860, 4197, ..., 1529, 1509, 1495]], dtype=int64)"
      ]
     },
     "execution_count": 162,
     "metadata": {},
     "output_type": "execute_result"
    }
   ],
   "source": [
    "from sklearn.feature_selection import SelectFromModel\n",
    "\n",
    "fs_embbed_penalty = SelectFromModel(LogisticRegression(penalty=\"l2\", \n",
    "                                                       C= 100)\n",
    "                                   ).fit_transform(df.iloc[:, :-1], \n",
    "                                                   df.iloc[:, -1])\n",
    "fs_embbed_penalty"
   ]
  },
  {
   "cell_type": "code",
   "execution_count": 163,
   "id": "d9a8784a",
   "metadata": {},
   "outputs": [
    {
     "data": {
      "text/plain": [
       "(21025, 99)"
      ]
     },
     "execution_count": 163,
     "metadata": {},
     "output_type": "execute_result"
    }
   ],
   "source": [
    "fs_embbed_penalty.shape"
   ]
  },
  {
   "cell_type": "markdown",
   "id": "40131549",
   "metadata": {},
   "source": [
    "## 3.2 基于树模型的特征选择法 （直接对200维选择太慢，先降维）"
   ]
  },
  {
   "cell_type": "markdown",
   "id": "f256c69a",
   "metadata": {},
   "source": [
    "- API:https://scikit-learn.org/stable/modules/generated/sklearn.ensemble.GradientBoostingClassifier.html\n",
    "\n",
    "`sklearn.ensemble.GradientBoostingClassifier(*, loss='deviance', learning_rate=0.1, n_estimators=100, subsample=1.0, criterion='friedman_mse', min_samples_split=2, min_samples_leaf=1, min_weight_fraction_leaf=0.0, max_depth=3, min_impurity_decrease=0.0, min_impurity_split=None, init=None, random_state=None, max_features=None, verbose=0, max_leaf_nodes=None, warm_start=False, validation_fraction=0.1, n_iter_no_change=None, tol=0.0001, ccp_alpha=0.0)`"
   ]
  },
  {
   "cell_type": "code",
   "execution_count": 195,
   "id": "92695b7d",
   "metadata": {},
   "outputs": [
    {
     "data": {
      "text/plain": [
       "SelectFromModel(estimator=GradientBoostingClassifier())"
      ]
     },
     "execution_count": 195,
     "metadata": {},
     "output_type": "execute_result"
    }
   ],
   "source": [
    "# from sklearn.feature_selection import SelectFromModel\n",
    "# from sklearn.ensemble import GradientBoostingClassifier\n",
    "\n",
    "# # GBDT\n",
    "# est = GradientBoostingClassifier(loss='deviance',\n",
    "#                                  learning_rate=0.1,\n",
    "#                                  n_estimators=100)\n",
    "\n",
    "# fs_embbed_gbdt = SelectFromModel(estimator=est)\n",
    "# fs_embbed_gbdt.fit(df_pca, df.iloc[:, -1])\n",
    "# fs_embbed_gbdt"
   ]
  },
  {
   "cell_type": "markdown",
   "id": "61ed306f",
   "metadata": {},
   "source": [
    "### AttributeError: 'SelectFromModel' object has no attribute 'support_'"
   ]
  },
  {
   "cell_type": "code",
   "execution_count": 217,
   "id": "26fcb7ee",
   "metadata": {},
   "outputs": [],
   "source": [
    "# fs_embbed_gbdt.support_"
   ]
  },
  {
   "cell_type": "code",
   "execution_count": 216,
   "id": "c4700801",
   "metadata": {},
   "outputs": [],
   "source": [
    "# fs_embbed_gbdt.ranking_"
   ]
  },
  {
   "cell_type": "markdown",
   "id": "0b7a631f",
   "metadata": {},
   "source": [
    "## 4. 可解释性特征选择方法：Boruta"
   ]
  },
  {
   "cell_type": "code",
   "execution_count": 200,
   "id": "db2ac42a",
   "metadata": {},
   "outputs": [],
   "source": [
    "from boruta import BorutaPy\n",
    "from sklearn.inspection import permutation_importance"
   ]
  },
  {
   "cell_type": "code",
   "execution_count": 202,
   "id": "cc39f34f",
   "metadata": {},
   "outputs": [],
   "source": [
    "# perm_importance = permutation_importance(xgb_model, train_x, train_y)"
   ]
  },
  {
   "cell_type": "code",
   "execution_count": 201,
   "id": "fdecc458",
   "metadata": {},
   "outputs": [],
   "source": [
    "# 均为默认参数\n",
    "# n_jobs= 4, # 要并行运行的任务数：fit，predict，decision_path和apply在树上并行化。\n",
    "rf_model = RandomForestClassifier(\n",
    "                  max_features= 'auto',\n",
    "                  max_depth= None,\n",
    "                  min_samples_split= 2,\n",
    "                  min_samples_leaf= 1,\n",
    "                  n_estimators= 'auto',\n",
    "                  bootstrap= True)"
   ]
  },
  {
   "cell_type": "code",
   "execution_count": 210,
   "id": "3257b8d8",
   "metadata": {},
   "outputs": [
    {
     "data": {
      "text/plain": [
       "BorutaPy(estimator=RandomForestClassifier(n_estimators=10,\n",
       "                                          random_state=RandomState(MT19937) at 0x1E505381340),\n",
       "         max_iter=50, n_estimators=10,\n",
       "         random_state=RandomState(MT19937) at 0x1E505381340)"
      ]
     },
     "execution_count": 210,
     "metadata": {},
     "output_type": "execute_result"
    }
   ],
   "source": [
    "feature_selector = BorutaPy(rf_model,\n",
    "                            n_estimators= 10,\n",
    "                            max_iter= 50,\n",
    "                            verbose= 0)\n",
    "\n",
    "feature_selector.fit(df_pca, df.iloc[:, -1])"
   ]
  },
  {
   "cell_type": "code",
   "execution_count": 212,
   "id": "46aaf6df",
   "metadata": {},
   "outputs": [
    {
     "data": {
      "text/plain": [
       "array([ True,  True,  True,  True,  True,  True,  True,  True,  True,\n",
       "        True,  True,  True,  True,  True,  True,  True,  True,  True,\n",
       "        True,  True])"
      ]
     },
     "execution_count": 212,
     "metadata": {},
     "output_type": "execute_result"
    }
   ],
   "source": [
    "# check selected features - first 5 features are selected\n",
    "feature_selector.support_"
   ]
  },
  {
   "cell_type": "code",
   "execution_count": 213,
   "id": "2b573f4a",
   "metadata": {},
   "outputs": [
    {
     "data": {
      "text/plain": [
       "array([1, 1, 1, 1, 1, 1, 1, 1, 1, 1, 1, 1, 1, 1, 1, 1, 1, 1, 1, 1])"
      ]
     },
     "execution_count": 213,
     "metadata": {},
     "output_type": "execute_result"
    }
   ],
   "source": [
    "# check ranking of features\n",
    "feature_selector.ranking_"
   ]
  },
  {
   "cell_type": "code",
   "execution_count": 214,
   "id": "74b09a18",
   "metadata": {},
   "outputs": [
    {
     "data": {
      "text/plain": [
       "(21025, 20)"
      ]
     },
     "execution_count": 214,
     "metadata": {},
     "output_type": "execute_result"
    }
   ],
   "source": [
    "# call transform() on X to filter it down to selected features\n",
    "X_filtered = feature_selector.transform(df_pca)\n",
    "X_filtered.shape"
   ]
  }
 ],
 "metadata": {
  "kernelspec": {
   "display_name": "Python 3",
   "language": "python",
   "name": "python3"
  },
  "language_info": {
   "codemirror_mode": {
    "name": "ipython",
    "version": 3
   },
   "file_extension": ".py",
   "mimetype": "text/x-python",
   "name": "python",
   "nbconvert_exporter": "python",
   "pygments_lexer": "ipython3",
   "version": "3.8.5"
  }
 },
 "nbformat": 4,
 "nbformat_minor": 5
}
